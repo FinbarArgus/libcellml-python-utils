{
 "cells": [
  {
   "cell_type": "code",
   "execution_count": 25,
   "id": "0751e1d2",
   "metadata": {},
   "outputs": [],
   "source": [
    "# import standard stuff...\n",
    "import os\n",
    "import sys\n",
    "import cellml"
   ]
  },
  {
   "cell_type": "markdown",
   "id": "0a5b8bd2",
   "metadata": {},
   "source": [
    "First we want to parse the CellML document that we are going to annotate. We parse in non-strict mode to allow any version CellML model to be used."
   ]
  },
  {
   "cell_type": "code",
   "execution_count": 26,
   "id": "13cbbacd",
   "metadata": {},
   "outputs": [
    {
     "name": "stdout",
     "output_type": "stream",
     "text": [
      "The method \"parse_model\" found 1 issues:\n",
      "    - Given model is a CellML 1.1 model, the parser will try to represent this model in CellML 2.0.\n"
     ]
    }
   ],
   "source": [
    "model_file = 'cellml/delay_test.cellml'\n",
    "model = cellml.parse_model(model_file, False)"
   ]
  },
  {
   "cell_type": "markdown",
   "id": "bb408c88",
   "metadata": {},
   "source": [
    "Now we create an annotator object that we can use to manage the metadata IDs on our model"
   ]
  },
  {
   "cell_type": "code",
   "execution_count": 27,
   "id": "510059d3",
   "metadata": {},
   "outputs": [],
   "source": [
    "from libcellml import Annotator\n",
    "annotator = Annotator()\n",
    "annotator.setModel(model)"
   ]
  },
  {
   "cell_type": "markdown",
   "id": "a2dc93f2",
   "metadata": {},
   "source": [
    "Make sure all entities in the model have an ID and make sure that all IDs in the model are unique."
   ]
  },
  {
   "cell_type": "code",
   "execution_count": 28,
   "id": "9a384581",
   "metadata": {},
   "outputs": [
    {
     "name": "stdout",
     "output_type": "stream",
     "text": [
      "Some entities have been assigned an ID, you should save the model!\n"
     ]
    }
   ],
   "source": [
    "if annotator.assignAllIds():\n",
    "    print('Some entities have been assigned an ID, you should save the model!')\n",
    "else:\n",
    "    print('Everything already had an ID.')\n",
    "\n",
    "duplicates = annotator.duplicateIds()\n",
    "if len(duplicates) > 0:\n",
    "    print(\"There are some duplicate IDs, behaviour may be unreliable...\")\n",
    "    print(duplicates)"
   ]
  },
  {
   "cell_type": "markdown",
   "id": "791489a1",
   "metadata": {},
   "source": [
    "Since this test model has some messed up IDs, lets just blow them away and start again..."
   ]
  },
  {
   "cell_type": "code",
   "execution_count": 29,
   "id": "1969681f",
   "metadata": {},
   "outputs": [
    {
     "name": "stdout",
     "output_type": "stream",
     "text": [
      "<?xml version=\"1.0\" encoding=\"UTF-8\"?>\n",
      "<model xmlns=\"http://www.cellml.org/cellml/2.0#\" name=\"my_model\" id=\"b4da60\">\n",
      "  <units name=\"per_s\" id=\"b4da61\">\n",
      "    <unit exponent=\"-1\" units=\"second\" id=\"b4da62\"/>\n",
      "  </units>\n",
      "  <component name=\"delay_test\" id=\"b4da63\">\n",
      "    <variable name=\"t\" units=\"second\" id=\"b4da64\"/>\n",
      "    <variable name=\"f_a\" units=\"per_s\" id=\"b4da65\"/>\n",
      "    <variable name=\"V_delay\" units=\"per_s\" id=\"b4da66\"/>\n",
      "    <variable name=\"V\" units=\"dimensionless\" initial_value=\"0.0\" id=\"b4da67\"/>\n",
      "    <variable name=\"out\" units=\"dimensionless\" id=\"b4da68\"/>\n",
      "    <variable name=\"delay\" units=\"second\" initial_value=\"0.5\" id=\"b4da69\"/>\n",
      "    <variable name=\"k_e\" units=\"dimensionless\" initial_value=\"1.0\" id=\"b4da6a\"/>\n",
      "    <math xmlns=\"http://www.w3.org/1998/Math/MathML\" xmlns:cellml=\"http://www.cellml.org/cellml/2.0#\">\n",
      "      <apply>\n",
      "        <eq/>\n",
      "        <apply>\n",
      "          <diff/>\n",
      "          <bvar>\n",
      "            <ci>t</ci>\n",
      "          </bvar>\n",
      "          <ci>V</ci>\n",
      "        </apply>\n",
      "        <apply>\n",
      "          <minus/>\n",
      "          <ci>f_a</ci>\n",
      "          <apply>\n",
      "            <times/>\n",
      "            <ci>k_e</ci>\n",
      "            <ci>V</ci>\n",
      "          </apply>\n",
      "        </apply>\n",
      "      </apply>\n",
      "      <apply>\n",
      "        <eq/>\n",
      "        <ci>f_a</ci>\n",
      "        <apply>\n",
      "          <plus/>\n",
      "          <apply>\n",
      "            <times/>\n",
      "            <cn cellml:units=\"per_s\">1</cn>\n",
      "            <apply>\n",
      "              <sin/>\n",
      "              <apply>\n",
      "                <times/>\n",
      "                <cn cellml:units=\"dimensionless\">10</cn>\n",
      "                <ci>t</ci>\n",
      "              </apply>\n",
      "            </apply>\n",
      "          </apply>\n",
      "          <apply>\n",
      "            <times/>\n",
      "            <cn cellml:units=\"per_s\">1</cn>\n",
      "            <apply>\n",
      "              <sin/>\n",
      "              <apply>\n",
      "                <times/>\n",
      "                <cn cellml:units=\"dimensionless\">1</cn>\n",
      "                <ci>t</ci>\n",
      "              </apply>\n",
      "            </apply>\n",
      "          </apply>\n",
      "          <cn cellml:units=\"per_s\">10</cn>\n",
      "        </apply>\n",
      "      </apply>\n",
      "      <apply>\n",
      "        <eq/>\n",
      "        <ci>V_delay</ci>\n",
      "        <ci>V</ci>\n",
      "      </apply>\n",
      "      <apply>\n",
      "        <eq/>\n",
      "        <ci>out</ci>\n",
      "        <apply>\n",
      "          <times/>\n",
      "          <cn cellml:units=\"dimensionless\">2</cn>\n",
      "          <ci>V_delay</ci>\n",
      "        </apply>\n",
      "      </apply>\n",
      "    </math>\n",
      "  </component>\n",
      "</model>\n",
      "\n"
     ]
    }
   ],
   "source": [
    "annotator.clearAllIds()\n",
    "annotator.assignAllIds()\n",
    "model_string = cellml.print_model(model)\n",
    "print(model_string)\n",
    "\n",
    "# and save the updated model to a new file - note, we need the model filename for making our annotations later\n",
    "model_file = 'cellml/delay_test-updated-ids.cellml'\n",
    "with open(model_file, 'w') as f:\n",
    "    f.write(model_string)"
   ]
  },
  {
   "cell_type": "markdown",
   "id": "c3149a9c",
   "metadata": {},
   "source": [
    "Now we can do some annotation using pyOmexMeta (see https://github.com/sys-bio/pyomexmeta-binder-notebook) - except it doesn't work for CellML 2.0 models. So for now we work directly with RDF."
   ]
  },
  {
   "cell_type": "code",
   "execution_count": 30,
   "id": "eccacd46",
   "metadata": {},
   "outputs": [
    {
     "name": "stdout",
     "output_type": "stream",
     "text": [
      "@prefix ns1: <https://github.com/nickerso/libcellml-python-utils/properties.rst#> .\n",
      "@prefix ns2: <http://purl.org/dc/terms/> .\n",
      "\n",
      "<delay_test-updated-ids.cellml#b4da65> ns2:type <http://identifiers.org/mamo/MAMO_0000031> .\n",
      "\n",
      "<delay_test-updated-ids.cellml#b4da67> ns2:type <http://identifiers.org/mamo/MAMO_0000031>,\n",
      "        ns1:variable-to-delay ;\n",
      "    ns1:delay-amount <delay_test-updated-ids.cellml#b4da69> ;\n",
      "    ns1:delay-variable <delay_test-updated-ids.cellml#b4da66> ;\n",
      "    ns1:variable-to-delay <delay_test-updated-ids.cellml#b4da64> .\n",
      "\n",
      "<delay_test-updated-ids.cellml#b4da68> ns2:type <http://identifiers.org/mamo/MAMO_0000031> .\n",
      "\n",
      "<delay_test-updated-ids.cellml#b4da64> ns2:type <http://identifiers.org/mamo/MAMO_0000031> .\n",
      "\n",
      "<delay_test-updated-ids.cellml#b4da66> ns2:type <http://identifiers.org/mamo/MAMO_0000031> .\n",
      "\n",
      "\n"
     ]
    }
   ],
   "source": [
    "# get the ID of the variables we want to annotate\n",
    "variable_to_delay = model.component('delay_test').variable('V').id()\n",
    "delay_variable = model.component('delay_test').variable('V_delay').id()\n",
    "delay_amount = model.component('delay_test').variable('delay').id()\n",
    "independent_variable = model.component('delay_test').variable('t').id()\n",
    "\n",
    "output_variables = [model.component('delay_test').variable('t').id(), \n",
    "                    model.component('delay_test').variable('V_delay').id(), \n",
    "                    model.component('delay_test').variable('V').id(), \n",
    "                    model.component('delay_test').variable('out').id(), \n",
    "                    model.component('delay_test').variable('f_a').id()]\n",
    "\n",
    "# make an RDF Graph to add annotations to - using rdflib\n",
    "from rdflib import Graph, Literal, RDF, URIRef\n",
    "from rdflib.namespace import DCTERMS\n",
    "\n",
    "g = Graph()\n",
    "\n",
    "# define some URIs for things we need\n",
    "\n",
    "# use this URI to identify delayed variables - not the perfect URI, but will do for now\n",
    "#     This is actually \"delayed differential equation model\" from the MAMO ontology\n",
    "#delay_variable_uri = URIRef('http://identifiers.org/mamo/MAMO_0000089')\n",
    "delay_variable_uri = URIRef('https://github.com/nickerso/libcellml-python-utils/properties.rst#delay-variable')\n",
    "variable_to_delay_uri = URIRef('https://github.com/nickerso/libcellml-python-utils/properties.rst#variable-to-delay')\n",
    "independent_variable_uri = URIRef('https://github.com/nickerso/libcellml-python-utils/properties.rst#variable-to-delay')\n",
    "delay_amount_uri = URIRef('https://github.com/nickerso/libcellml-python-utils/properties.rst#delay-amount')\n",
    "\n",
    "# use this for some random thing that I want to define - http://example.com is a good base for things that will never resolve\n",
    "stuff_uri = URIRef('http://example.com/cool-thing#21')\n",
    "\n",
    "# a \"readout\" variable that we maybe want to connect to something external?\n",
    "timecourse_readout_uri = URIRef('http://identifiers.org/mamo/MAMO_0000031')\n",
    "output_variable_uri = URIRef('http://identifiers.org/mamo/MAMO_0000018')\n",
    "input_variable_uri = URIRef('http://identifiers.org/mamo/MAMO_0000017')\n",
    "\n",
    "# Create an RDF URI node for our variable to use as the subject for multiple triples\n",
    "# note: we are going to serialise the RDF graph into the same folder, so we need a URI that is relative to the intended file\n",
    "variable_to_delay_name_uri = URIRef('delay_test-updated-ids.cellml' + '#' + variable_to_delay)\n",
    "delay_variable_name_uri = URIRef('delay_test-updated-ids.cellml' + '#' + delay_variable)\n",
    "independent_variable_name_uri = URIRef('delay_test-updated-ids.cellml' + '#' + independent_variable)\n",
    "delay_amount_name_uri = URIRef('delay_test-updated-ids.cellml' + '#' + delay_amount)\n",
    "\n",
    "# Add triples using store's add() method.\n",
    "# We're using the Dublin Core term \"type\" to associate the variable with the delay...\n",
    "g.add((variable_to_delay_name_uri, DCTERMS.type, variable_to_delay_uri))\n",
    "g.add((variable_to_delay_name_uri, delay_variable_uri, delay_variable_name_uri))\n",
    "g.add((variable_to_delay_name_uri, independent_variable_uri, independent_variable_name_uri))\n",
    "g.add((variable_to_delay_name_uri, delay_amount_uri, delay_amount_name_uri))\n",
    "# Set timecourse readout variables\n",
    "for ov in output_variables:\n",
    "    output_uri = URIRef('delay_test-updated-ids.cellml' + '#' + ov)\n",
    "    g.add((output_uri, DCTERMS.type, timecourse_readout_uri))\n",
    "\n",
    "# print all the data in the turtle format\n",
    "print(g.serialize(format='ttl'))\n",
    "\n",
    "# and save to a file\n",
    "with open('cellml/delay_test-updated-ids--annotations.ttl', 'w') as f:\n",
    "    f.write(g.serialize(format='ttl'))"
   ]
  },
  {
   "cell_type": "code",
   "execution_count": null,
   "id": "a9abae7d",
   "metadata": {},
   "outputs": [],
   "source": []
  }
 ],
 "metadata": {
  "kernelspec": {
   "display_name": "Python 3.10.6 ('venv': venv)",
   "language": "python",
   "name": "python3"
  },
  "language_info": {
   "codemirror_mode": {
    "name": "ipython",
    "version": 3
   },
   "file_extension": ".py",
   "mimetype": "text/x-python",
   "name": "python",
   "nbconvert_exporter": "python",
   "pygments_lexer": "ipython3",
   "version": "3.10.6"
  },
  "vscode": {
   "interpreter": {
    "hash": "20a0e26b44e264d1a163af95cfda1c92a17c5517270a7edbbb2f8d9eba7e3396"
   }
  }
 },
 "nbformat": 4,
 "nbformat_minor": 5
}
