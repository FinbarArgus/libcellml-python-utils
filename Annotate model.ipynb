{
 "cells": [
  {
   "cell_type": "code",
   "execution_count": 1,
   "id": "0751e1d2",
   "metadata": {},
   "outputs": [],
   "source": [
    "# import standard stuff...\n",
    "import os\n",
    "import sys\n",
    "import cellml"
   ]
  },
  {
   "cell_type": "markdown",
   "id": "0a5b8bd2",
   "metadata": {},
   "source": [
    "First we want to parse the CellML document that we are going to annotate. We parse in non-strict mode to allow any version CellML model to be used."
   ]
  },
  {
   "cell_type": "code",
   "execution_count": 2,
   "id": "13cbbacd",
   "metadata": {},
   "outputs": [],
   "source": [
    "model_file = 'models/sine_approximations_import.xml'\n",
    "model = cellml.parse_model(model_file, False)"
   ]
  },
  {
   "cell_type": "markdown",
   "id": "bb408c88",
   "metadata": {},
   "source": [
    "Now we create an annotator object that we can use to manage the metadata IDs on our model"
   ]
  },
  {
   "cell_type": "code",
   "execution_count": 3,
   "id": "510059d3",
   "metadata": {},
   "outputs": [],
   "source": [
    "from libcellml import Annotator\n",
    "annotator = Annotator()\n",
    "annotator.setModel(model)"
   ]
  },
  {
   "cell_type": "markdown",
   "id": "a2dc93f2",
   "metadata": {},
   "source": [
    "Make sure all entities in the model have an ID and make sure that all IDs in the model are unique."
   ]
  },
  {
   "cell_type": "code",
   "execution_count": 4,
   "id": "9a384581",
   "metadata": {},
   "outputs": [
    {
     "name": "stdout",
     "output_type": "stream",
     "text": [
      "Some entities have been assigned an ID, you should save the model!\n"
     ]
    }
   ],
   "source": [
    "if annotator.assignAllIds():\n",
    "    print('Some entities have been assigned an ID, you should save the model!')\n",
    "else:\n",
    "    print('Everything already had an ID.')\n",
    "\n",
    "duplicates = annotator.duplicateIds()\n",
    "if len(duplicates) > 0:\n",
    "    print(\"There are some duplicate IDs, behaviour may be unreliable...\")\n",
    "    print(duplicates)"
   ]
  },
  {
   "cell_type": "markdown",
   "id": "791489a1",
   "metadata": {},
   "source": [
    "Since this test model has some messed up IDs, lets just blow them away and start again..."
   ]
  },
  {
   "cell_type": "code",
   "execution_count": 5,
   "id": "1969681f",
   "metadata": {},
   "outputs": [
    {
     "name": "stdout",
     "output_type": "stream",
     "text": [
      "<?xml version=\"1.0\" encoding=\"UTF-8\"?>\n",
      "<model xmlns=\"http://www.cellml.org/cellml/2.0#\" name=\"sin_approximations_import\" id=\"b4da7a\">\n",
      "  <import xmlns:xlink=\"http://www.w3.org/1999/xlink\" xlink:href=\"sin.xml\" id=\"b4da7b\">\n",
      "    <component component_ref=\"sin\" name=\"actual_sin\" id=\"b4da7f\"/>\n",
      "  </import>\n",
      "  <import xmlns:xlink=\"http://www.w3.org/1999/xlink\" xlink:href=\"deriv_approx_sin.xml\" id=\"b4da7c\">\n",
      "    <component component_ref=\"sin\" name=\"deriv_approx_sin\" id=\"b4da80\"/>\n",
      "  </import>\n",
      "  <import xmlns:xlink=\"http://www.w3.org/1999/xlink\" xlink:href=\"parabolic_approx_sin.xml\" id=\"b4da7d\">\n",
      "    <component component_ref=\"sin\" name=\"parabolic_approx_sin\" id=\"b4da81\"/>\n",
      "  </import>\n",
      "  <component name=\"main\" id=\"b4da7e\">\n",
      "    <variable name=\"x\" units=\"dimensionless\" interface=\"public_and_private\" id=\"b4da82\"/>\n",
      "    <variable name=\"sin1\" units=\"dimensionless\" interface=\"public_and_private\" id=\"b4da83\"/>\n",
      "    <variable name=\"sin2\" units=\"dimensionless\" interface=\"public_and_private\" id=\"b4da84\"/>\n",
      "    <variable name=\"deriv_approx_initial_value\" units=\"dimensionless\" initial_value=\"0\" interface=\"public_and_private\" id=\"b4da85\"/>\n",
      "    <variable name=\"sin3\" units=\"dimensionless\" interface=\"public_and_private\" id=\"b4da86\"/>\n",
      "    <variable name=\"C\" units=\"dimensionless\" initial_value=\"0.75\" interface=\"public_and_private\" id=\"b4da87\"/>\n",
      "  </component>\n",
      "  <connection component_1=\"main\" component_2=\"actual_sin\" id=\"b4da90\">\n",
      "    <map_variables variable_1=\"x\" variable_2=\"x\" id=\"b4da93\"/>\n",
      "    <map_variables variable_1=\"sin1\" variable_2=\"sin\" id=\"b4da96\"/>\n",
      "  </connection>\n",
      "  <connection component_1=\"main\" component_2=\"deriv_approx_sin\" id=\"b4da91\">\n",
      "    <map_variables variable_1=\"x\" variable_2=\"x\" id=\"b4da94\"/>\n",
      "    <map_variables variable_1=\"sin2\" variable_2=\"sin\" id=\"b4da97\"/>\n",
      "    <map_variables variable_1=\"deriv_approx_initial_value\" variable_2=\"sin_initial_value\" id=\"b4da98\"/>\n",
      "  </connection>\n",
      "  <connection component_1=\"main\" component_2=\"parabolic_approx_sin\" id=\"b4da92\">\n",
      "    <map_variables variable_1=\"x\" variable_2=\"x\" id=\"b4da95\"/>\n",
      "    <map_variables variable_1=\"sin3\" variable_2=\"sin\" id=\"b4da99\"/>\n",
      "    <map_variables variable_1=\"C\" variable_2=\"C\" id=\"b4da9a\"/>\n",
      "  </connection>\n",
      "  <encapsulation id=\"b4da9f\">\n",
      "    <component_ref component=\"main\" id=\"b4da9b\">\n",
      "      <component_ref component=\"actual_sin\" id=\"b4da9c\"/>\n",
      "      <component_ref component=\"deriv_approx_sin\" id=\"b4da9d\"/>\n",
      "      <component_ref component=\"parabolic_approx_sin\" id=\"b4da9e\"/>\n",
      "    </component_ref>\n",
      "  </encapsulation>\n",
      "</model>\n",
      "\n"
     ]
    }
   ],
   "source": [
    "annotator.clearAllIds()\n",
    "annotator.assignAllIds()\n",
    "model_string = cellml.print_model(model)\n",
    "print(model_string)\n",
    "\n",
    "# and save the updated model to a new file - note, we need the model filename for making our annotations later\n",
    "model_file = 'models/sine_approximations-updated-ids.xml'\n",
    "with open(model_file, 'w') as f:\n",
    "    f.write(model_string)"
   ]
  },
  {
   "cell_type": "markdown",
   "id": "c3149a9c",
   "metadata": {},
   "source": [
    "Now we can do some annotation using pyOmexMeta (see https://github.com/sys-bio/pyomexmeta-binder-notebook) - except it doesn't work for CellML 2.0 models. So for now we work directly with RDF."
   ]
  },
  {
   "cell_type": "code",
   "execution_count": 8,
   "id": "eccacd46",
   "metadata": {},
   "outputs": [
    {
     "name": "stdout",
     "output_type": "stream",
     "text": [
      "@prefix ns1: <http://purl.org/dc/terms/> .\n",
      "@prefix ns2: <https://github.com/nickerso/libcellml-python-utils/properties.rst#> .\n",
      "\n",
      "<sine_approximations-updated-ids.xml#b4da83> ns1:type <http://identifiers.org/mamo/MAMO_0000031>,\n",
      "        ns2:variable-to-delay ;\n",
      "    ns2:delay-variable <sine_approximations-updated-ids.xml#b4da82> .\n",
      "\n",
      "<sine_approximations-updated-ids.xml#b4da84> ns1:type <http://identifiers.org/mamo/MAMO_0000031> .\n",
      "\n",
      "<sine_approximations-updated-ids.xml#b4da86> ns1:type <http://identifiers.org/mamo/MAMO_0000031> .\n",
      "\n",
      "<sine_approximations-updated-ids.xml#b4da82> ns1:type <http://identifiers.org/mamo/MAMO_0000031> .\n",
      "\n",
      "\n"
     ]
    }
   ],
   "source": [
    "# get the ID of the variables we want to annotate\n",
    "actual_sine_variable = model.component('main').variable('sin1').id()\n",
    "independent_variable = model.component('main').variable('x').id()\n",
    "\n",
    "output_variables = [model.component('main').variable('sin1').id(), \n",
    "                    model.component('main').variable('sin2').id(), \n",
    "                    model.component('main').variable('sin3').id(), \n",
    "                    model.component('main').variable('x').id()]\n",
    "\n",
    "# make an RDF Graph to add annotations to - using rdflib\n",
    "from rdflib import Graph, Literal, RDF, URIRef\n",
    "from rdflib.namespace import DCTERMS\n",
    "\n",
    "g = Graph()\n",
    "\n",
    "# define some URIs for things we need\n",
    "\n",
    "# use this URI to identify delayed variables - not the perfect URI, but will do for now\n",
    "#     This is actually \"delayed differential equation model\" from the MAMO ontology\n",
    "#delay_variable_uri = URIRef('http://identifiers.org/mamo/MAMO_0000089')\n",
    "delay_variable_uri = URIRef('https://github.com/nickerso/libcellml-python-utils/properties.rst#delay-variable')\n",
    "variable_to_delay_uri = URIRef('https://github.com/nickerso/libcellml-python-utils/properties.rst#variable-to-delay')\n",
    "\n",
    "# use this for some random thing that I want to define - http://example.com is a good base for things that will never resolve\n",
    "stuff_uri = URIRef('http://example.com/cool-thing#21')\n",
    "\n",
    "# a \"readout\" variable that we maybe want to connect to something external?\n",
    "timecourse_readout_uri = URIRef('http://identifiers.org/mamo/MAMO_0000031')\n",
    "\n",
    "# Create an RDF URI node for our variable to use as the subject for multiple triples\n",
    "# note: we are going to serialise the RDF graph into the same folder, so we need a URI that is relative to the intended file\n",
    "variable_uri = URIRef('sine_approximations-updated-ids.xml' + '#' + actual_sine_variable)\n",
    "independent_variable_uri = URIRef('sine_approximations-updated-ids.xml' + '#' + independent_variable)\n",
    "\n",
    "# Add triples using store's add() method.\n",
    "# We're using the Dublin Core term \"type\" to associate the variable with the delay...\n",
    "g.add((variable_uri, DCTERMS.type, variable_to_delay_uri))\n",
    "g.add((variable_uri, delay_variable_uri, independent_variable_uri))\n",
    "# Set timecourse readout variables\n",
    "for ov in output_variables:\n",
    "    output_uri = URIRef('sine_approximations-updated-ids.xml' + '#' + ov)\n",
    "    g.add((output_uri, DCTERMS.type, timecourse_readout_uri))\n",
    "\n",
    "# print all the data in the turtle format\n",
    "print(g.serialize(format='ttl'))\n",
    "\n",
    "# and save to a file\n",
    "with open('models/sine_approximations-updated-ids--annotations.ttl', 'w') as f:\n",
    "    f.write(g.serialize(format='ttl'))"
   ]
  },
  {
   "cell_type": "code",
   "execution_count": null,
   "id": "a9abae7d",
   "metadata": {},
   "outputs": [],
   "source": []
  }
 ],
 "metadata": {
  "kernelspec": {
   "display_name": "Python 3 (ipykernel)",
   "language": "python",
   "name": "python3"
  },
  "language_info": {
   "codemirror_mode": {
    "name": "ipython",
    "version": 3
   },
   "file_extension": ".py",
   "mimetype": "text/x-python",
   "name": "python",
   "nbconvert_exporter": "python",
   "pygments_lexer": "ipython3",
   "version": "3.9.4"
  }
 },
 "nbformat": 4,
 "nbformat_minor": 5
}
